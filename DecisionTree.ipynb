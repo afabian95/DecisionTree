{
 "cells": [
  {
   "cell_type": "code",
   "execution_count": 1,
   "metadata": {},
   "outputs": [],
   "source": [
    "# Fabian Ardeljan\n",
    "# Data Mining\n",
    "# Dr. Ye\n",
    "\n",
    "from dtree import *\n",
    "from mldata import *\n",
    "import os\n",
    "\n",
    "query = {\"outlook\":\"overcast\", \"temperature\":\"60\", \"humidity\":\"62\", \"windy\":\"false\"}"
   ]
  },
  {
   "cell_type": "code",
   "execution_count": 2,
   "metadata": {},
   "outputs": [],
   "source": [
    "def dtree(datapath, selection, query):\n",
    "    \n",
    "    location, dataname = os.path.split(datapath)\n",
    "    dataset = parse_c45(dataname, location)\n",
    "    datalabels, datatypes, index_count = parseLabels(datapath)\n",
    "    dataset = removeIndeces(dataset, index_count)\n",
    "    scale = createScale(dataset, datatypes)\n",
    "    tree = createTree(dataset, datalabels, datatypes, scale, selection)\n",
    "    if (predict(query, tree)):\n",
    "        print(\"Prediction: play = yes\")\n",
    "    else:\n",
    "        print(\"Prediction: play = no\")"
   ]
  },
  {
   "cell_type": "code",
   "execution_count": 3,
   "metadata": {},
   "outputs": [
    {
     "name": "stdout",
     "output_type": "stream",
     "text": [
      "Information Gain: [0.24674981977443933, 0.19996253177061107, 0.21886699651992592, 0.04812703040826949]\n",
      "Split Order:[0, 2, 1, 3]\n",
      "Decision Tree: {'outlook': {'overcast': True, 'rainy': {'humidity': {0.0: False, 77.4: True, 89.80000000000001: {'temperature': {68.2: {'windy': {'false': False, 'true': False}}}}}}, 'sunny': {'humidity': {0.0: True, 83.60000000000001: False, 89.80000000000001: False}}}}\n",
      "Prediction: play = yes\n"
     ]
    }
   ],
   "source": [
    "dtree(\"./tennis/tennis\", \"info_gain\", query)"
   ]
  },
  {
   "cell_type": "code",
   "execution_count": 4,
   "metadata": {},
   "outputs": [
    {
     "name": "stdout",
     "output_type": "stream",
     "text": [
      "Gain Ratio: [0.15642756242117528, 0.056781072352186775, 0.06878271419388311, 0.048848615511520824]\n",
      "Split Order:[0, 2, 1, 3]\n",
      "Decision Tree: {'outlook': {'overcast': True, 'rainy': {'humidity': {0.0: False, 77.4: True, 89.80000000000001: {'temperature': {68.2: {'windy': {'false': False, 'true': False}}}}}}, 'sunny': {'humidity': {0.0: True, 83.60000000000001: False, 89.80000000000001: False}}}}\n",
      "Prediction: play = yes\n"
     ]
    }
   ],
   "source": [
    "dtree(\"./tennis/tennis\", \"gain_ratio\", query)"
   ]
  },
  {
   "cell_type": "code",
   "execution_count": 5,
   "metadata": {},
   "outputs": [
    {
     "name": "stdout",
     "output_type": "stream",
     "text": [
      "GINI Index: [0.34285714285714286, 0.3619047619047619, 0.35, 0.42857142857142855]\n",
      "Split Order:[3, 1, 2, 0]\n",
      "Decision Tree: {'windy': {'false': {'temperature': {0.0: True, 68.2: {'humidity': {0.0: True, 89.80000000000001: {'outlook': {'rainy': False, 'sunny': False}}}}, 72.4: True, 80.80000000000001: {'humidity': {71.2: True, 83.60000000000001: {'outlook': {'overcast': False, 'sunny': False}}}}}}, 'true': {'temperature': {0.0: {'humidity': {0: {'outlook': {'overcast': False, 'rainy': False}}}}, 68.2: {'humidity': {89.80000000000001: {'outlook': {'overcast': False, 'rainy': False}}}}, 72.4: True, 76.60000000000001: False}}}}\n",
      "Prediction: play = yes\n"
     ]
    }
   ],
   "source": [
    "dtree(\"./tennis/tennis\", \"gini_index\", query)"
   ]
  },
  {
   "cell_type": "markdown",
   "metadata": {},
   "source": [
    "All three attribute selection criteria lead to the same final result. However, the attribute information by GINI index leads to a different split order and therefore derives its solution from a different tree."
   ]
  }
 ],
 "metadata": {
  "kernelspec": {
   "display_name": "Python 3",
   "language": "python",
   "name": "python3"
  },
  "language_info": {
   "codemirror_mode": {
    "name": "ipython",
    "version": 3
   },
   "file_extension": ".py",
   "mimetype": "text/x-python",
   "name": "python",
   "nbconvert_exporter": "python",
   "pygments_lexer": "ipython3",
   "version": "3.7.6"
  }
 },
 "nbformat": 4,
 "nbformat_minor": 4
}
